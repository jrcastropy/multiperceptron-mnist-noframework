{
 "cells": [
  {
   "cell_type": "code",
   "execution_count": 1,
   "id": "9a697328",
   "metadata": {},
   "outputs": [],
   "source": [
    "import pandas as pd\n",
    "import numpy as np\n",
    "import matplotlib.pyplot as plt\n",
    "from tqdm import tqdm"
   ]
  },
  {
   "cell_type": "code",
   "execution_count": 7,
   "id": "9352af9e",
   "metadata": {},
   "outputs": [],
   "source": [
    "# initialize training dataset\n",
    "\n",
    "# load train.csv from MNIST DATASET, download here https://www.kaggle.com/competitions/digit-recognizer\n",
    "# Each columns are represents each flatten image, there are 42k column in this CSV file\n",
    "# Each row are represents each pixel of an flatten image except for the first row which is the label,\n",
    "# there are 749 row for this that represents the 28 x 28 pixels of the image.\n",
    "# split the dataset into Training and Validation dataset, We will only get 1k dataset for validation\n",
    "# The rest will be training dataset\n",
    "train_ds = pd.read_csv(\"./mnist-dataset/train.csv\").iloc[:41000]\n",
    "val_ds = pd.read_csv(\"./mnist-dataset/train.csv\").iloc[41000:]\n",
    "\n",
    "# if the dataset are not flattened (an actual image open via opencv or PIL)\n",
    "# flatten them using the codes below\n",
    "# if flat_ds:\n",
    "#     x_train = x_train.reshape([x_train.shape[0], -1])\n",
    "\n",
    "# get the 2nd row to the 784th row\n",
    "x_train = train_ds.iloc[:,1:].values\n",
    "x_val = val_ds.iloc[:,1:].values\n",
    "\n",
    "# the first row of each column is the label\n",
    "# get them by batch\n",
    "train_labels = train_ds.iloc[:,:1].values\n",
    "val_labels = val_ds.iloc[:,:1].values\n",
    "\n",
    "# since their shape is [[1], [0], [4], [9], [6], ...]\n",
    "# reshape the training labels into a vector (1-D Array)\n",
    "# e.g. [1, 0, 4, 9, 8, ...]\n",
    "train_labels = train_labels.reshape(train_labels.shape[0])\n",
    "val_labels = val_labels.reshape(val_labels.shape[0])\n",
    "\n",
    "# convert the training labels into a 1 hot encoded array\n",
    "# each labels should be like this: [0, 1, 0, 0, 0, 0, 0, 0, 0]\n",
    "y_train = np.zeros((train_labels.shape[0], train_labels.max()+1), dtype=np.float32)\n",
    "y_train[np.arange(train_labels.size),train_labels] = 1\n",
    "\n",
    "y_val = np.zeros((val_labels.shape[0], val_labels.max()+1), dtype=np.float32)\n",
    "y_val[np.arange(val_labels.size),val_labels] = 1"
   ]
  },
  {
   "cell_type": "code",
   "execution_count": 8,
   "id": "b094cf5e",
   "metadata": {},
   "outputs": [
    {
     "data": {
      "image/png": "[encoded data removed]",
      "text/plain": [
       "<Figure size 432x432 with 4 Axes>"
      ]
     },
     "metadata": {
      "needs_background": "light"
     },
     "output_type": "display_data"
    }
   ],
   "source": [
    "# visualize training dataset\n",
    "plt.figure(figsize=[6,6])\n",
    "for i in range(4):\n",
    "    plt.subplot(2,2,i+1)\n",
    "    plt.title(\"Label: {}\".format(y_train[i].argmax()))\n",
    "    plt.imshow(x_train[i].reshape([28,28]),cmap='gray');"
   ]
  },
  {
   "cell_type": "code",
   "execution_count": 9,
   "id": "5cc282e6",
   "metadata": {},
   "outputs": [],
   "source": [
    "# define each layer by producing weights and biases\n",
    "def define_layer(input_units, output_units):\n",
    "    \n",
    "    # we use numpy random normal distrbution to generate weights for each layer\n",
    "    # and unintinialized numpy array for bias (all zeros)\n",
    "    w = np.random.normal(loc=0, \n",
    "#                         scale = np.sqrt(2/(input_units+output_units)),\n",
    "                        scale = 0.01, \n",
    "                        size = (input_units, output_units))\n",
    "    b = np.zeros(output_units)\n",
    "    return w, b"
   ]
  },
  {
   "cell_type": "code",
   "execution_count": 10,
   "id": "812bfe8d",
   "metadata": {},
   "outputs": [
    {
     "data": {
      "image/png": "[encoded data removed]",
      "text/plain": [
       "<Figure size 432x288 with 1 Axes>"
      ]
     },
     "metadata": {
      "needs_background": "light"
     },
     "output_type": "display_data"
    }
   ],
   "source": [
    "# visualize the weights and biases\n",
    "\n",
    "# 748 input to 600 output\n",
    "w1, b1 = define_layer(748, 600)\n",
    "\n",
    "# flatten the weights for faster processing\n",
    "wflat = w1.flatten()\n",
    "plt.hist(wflat, bins=100, density=True)\n",
    "plt.show()"
   ]
  },
  {
   "cell_type": "code",
   "execution_count": 11,
   "id": "afa13fcc",
   "metadata": {},
   "outputs": [],
   "source": [
    "# define ReLU activation function\n",
    "def ReLU(x):\n",
    "    return x * (x > 0)\n",
    "\n",
    "# define Derivative of ReLU functoion\n",
    "def dReLU(x):\n",
    "    return 1. * (x > 0)\n",
    "\n",
    "# use cross entropy loss function\n",
    "def cross_ent(y, yhat):\n",
    "    return -1 * np.sum(y * np.log(yhat))\n",
    "\n",
    "# define the derivative of cross entropy function\n",
    "def cross_ent_d(y, yhat):\n",
    "    return yhat - y\n",
    "\n",
    "# softmax activation function for one hot encoded\n",
    "def stable_softmax(x):\n",
    "    # use stable softmax instead of just softmax\n",
    "    z = x - np.max(x, axis=-1, keepdims=True)\n",
    "    numerator = np.exp(z)\n",
    "    denominator = np.sum(numerator, axis=-1, keepdims=True)\n",
    "    softmax = numerator / denominator\n",
    "    return softmax\n",
    "\n",
    "# linear functio input, weights and biases\n",
    "def lin_func(a, w, b):\n",
    "    # we will dot multiplication to multiply arrays\n",
    "    return np.dot(a, w) + b"
   ]
  },
  {
   "cell_type": "code",
   "execution_count": 12,
   "id": "66272ddc",
   "metadata": {},
   "outputs": [],
   "source": [
    "# build the model wieghts and biases\n",
    "w1, b1 = define_layer(784, 600)\n",
    "w2, b2 = define_layer(600, 450)\n",
    "w3, b3 = define_layer(450, 320)\n",
    "w4, b4 = define_layer(320, 100)\n",
    "w5, b5 = define_layer(100, 10)\n",
    "\n",
    "# initialize cost list, we'll append cost of the loss function here\n",
    "costlist = []\n",
    "\n",
    "# define iterations and learning rate (lr)\n",
    "iterations = 25\n",
    "lr = 0.001"
   ]
  },
  {
   "cell_type": "code",
   "execution_count": 13,
   "id": "7d4c0617",
   "metadata": {},
   "outputs": [
    {
     "name": "stderr",
     "output_type": "stream",
     "text": [
      "100%|███████████████████████████████████████████████████████████████████████████| 41000/41000 [04:32<00:00, 150.72it/s]\n",
      "100%|███████████████████████████████████████████████████████████████████████████| 41000/41000 [04:48<00:00, 142.35it/s]\n",
      "100%|███████████████████████████████████████████████████████████████████████████| 41000/41000 [05:14<00:00, 130.18it/s]\n",
      "100%|███████████████████████████████████████████████████████████████████████████| 41000/41000 [06:22<00:00, 107.29it/s]\n",
      "100%|███████████████████████████████████████████████████████████████████████████| 41000/41000 [06:08<00:00, 111.26it/s]\n",
      "100%|███████████████████████████████████████████████████████████████████████████| 41000/41000 [06:08<00:00, 111.20it/s]\n",
      "100%|███████████████████████████████████████████████████████████████████████████| 41000/41000 [06:11<00:00, 110.42it/s]\n",
      "100%|███████████████████████████████████████████████████████████████████████████| 41000/41000 [06:11<00:00, 110.24it/s]\n",
      "100%|███████████████████████████████████████████████████████████████████████████| 41000/41000 [06:13<00:00, 109.79it/s]\n",
      "100%|███████████████████████████████████████████████████████████████████████████| 41000/41000 [06:12<00:00, 109.95it/s]\n",
      "100%|███████████████████████████████████████████████████████████████████████████| 41000/41000 [06:14<00:00, 109.37it/s]\n",
      "100%|███████████████████████████████████████████████████████████████████████████| 41000/41000 [06:13<00:00, 109.85it/s]\n",
      "100%|███████████████████████████████████████████████████████████████████████████| 41000/41000 [06:12<00:00, 110.09it/s]\n",
      "100%|███████████████████████████████████████████████████████████████████████████| 41000/41000 [06:16<00:00, 108.99it/s]\n",
      "100%|███████████████████████████████████████████████████████████████████████████| 41000/41000 [06:12<00:00, 109.97it/s]\n",
      "100%|███████████████████████████████████████████████████████████████████████████| 41000/41000 [06:14<00:00, 109.36it/s]\n",
      "100%|███████████████████████████████████████████████████████████████████████████| 41000/41000 [06:13<00:00, 109.72it/s]\n",
      "100%|███████████████████████████████████████████████████████████████████████████| 41000/41000 [06:15<00:00, 109.16it/s]\n",
      "100%|███████████████████████████████████████████████████████████████████████████| 41000/41000 [06:22<00:00, 107.06it/s]\n",
      "100%|███████████████████████████████████████████████████████████████████████████| 41000/41000 [06:16<00:00, 108.89it/s]\n",
      "100%|███████████████████████████████████████████████████████████████████████████| 41000/41000 [04:39<00:00, 146.49it/s]\n",
      "100%|███████████████████████████████████████████████████████████████████████████| 41000/41000 [05:18<00:00, 128.80it/s]\n",
      "100%|███████████████████████████████████████████████████████████████████████████| 41000/41000 [05:23<00:00, 126.90it/s]\n",
      "100%|███████████████████████████████████████████████████████████████████████████| 41000/41000 [05:32<00:00, 123.24it/s]\n",
      "100%|███████████████████████████████████████████████████████████████████████████| 41000/41000 [05:10<00:00, 132.09it/s]\n"
     ]
    }
   ],
   "source": [
    "# iterate for 30 times\n",
    "for i in range(iterations):\n",
    "    # initialize c as the cost\n",
    "    c = 0\n",
    "    for o in tqdm(range(len(x_train))):\n",
    "        \n",
    "        # forward pass using linear function and\n",
    "        # ReLU as activation function\n",
    "        # and Stable Softmax at the end of the layer\n",
    "        \n",
    "        InputData1 = x_train[o].reshape(1, 784)\n",
    "        TargetData1 = y_train[o].reshape(1, 10)\n",
    "        \n",
    "        z1 = lin_func(InputData1, w1, b1)\n",
    "        a1 = ReLU(z1)\n",
    "\n",
    "        z2 = lin_func(a1, w2, b2)\n",
    "        a2 = ReLU(z2)\n",
    "\n",
    "        z3 = lin_func(a2, w3, b3)\n",
    "        a3 = ReLU(z3)\n",
    "\n",
    "        z4 = lin_func(a3, w4, b4)\n",
    "        a4 = ReLU(z4)\n",
    "\n",
    "        z5 = lin_func(a4, w5, b5)\n",
    "\n",
    "        a5 = stable_softmax(z5)\n",
    "\n",
    "        # get the sum of all cost\n",
    "        c += cross_ent(TargetData1, a5)\n",
    "        \n",
    "        # Start Backpropagation\n",
    "        # get the derivative of cross entropy\n",
    "        dw5 = cross_ent_d(TargetData1, a5)\n",
    "\n",
    "        db5 = np.sum(dw5, axis=0, keepdims=True)\n",
    "        w5 = w5 - lr * np.dot(a4.T, dw5)\n",
    "        b5 = b5 - lr * db5\n",
    "\n",
    "        dw4 = np.dot(dw5, w5.T) * dReLU(z4)\n",
    "        db4 = np.sum(dw4, axis=0, keepdims=True)\n",
    "        w4 = w4 - lr * np.dot(a3.T, dw4)\n",
    "        b4 = b4 - lr * db4\n",
    "\n",
    "        dw3 = np.dot(dw4, w4.T) * dReLU(z3)\n",
    "        db3 = np.sum(dw3, axis=0, keepdims=True)\n",
    "        w3 = w3 - lr * np.dot(dz3dw3.T, dw3)\n",
    "        b3 = b3 - lr * db3\n",
    "\n",
    "        dw2 = np.dot(dw3, w3.T) * dReLU(z2)\n",
    "        db2 = np.sum(dw2, axis=0, keepdims=True)\n",
    "        w2 = w2 - lr * np.dot(a1.T, dw2)\n",
    "        b2 = b2 - lr * db2\n",
    "\n",
    "        dw1 = np.dot(dw2, w2.T) * dReLU(z1)\n",
    "        db1 = np.sum(dw1, axis=0, keepdims=True)\n",
    "        w1 = w1 - lr * np.dot(InputData1.T, dw1)\n",
    "        b1 = b1 - lr * db1\n",
    "\n",
    "    costlist.append(c)"
   ]
  },
  {
   "cell_type": "code",
   "execution_count": null,
   "id": "dcbea79f",
   "metadata": {},
   "outputs": [],
   "source": [
    "test_ds = pd.read_csv(\"./mnist-dataset/test.csv\")\n",
    "x_test = test_ds.values\n",
    "x_test.shape"
   ]
  },
  {
   "cell_type": "code",
   "execution_count": 14,
   "id": "08916495",
   "metadata": {},
   "outputs": [
    {
     "name": "stdout",
     "output_type": "stream",
     "text": [
      "274.0552638902669\n",
      "[16581.418620270193, 5046.218408286645, 3325.7506948316063, 2503.7561007868144, 2063.8715808871234, 1730.6840480147655, 1440.2936287492423, 1085.2965310487984, 977.5322256777829, 814.5686349241842, 823.1484030403957, 799.1985784543189, 658.365526843545, 490.8863702040673, 519.1663075200184, 377.08370058099615, 501.92486468571065, 436.3585547079751, 265.5753250950599, 203.4284683354489, 358.7645394144702, 382.1653842744879, 256.54477552790996, 203.1892732473872, 274.0552638902669]\n"
     ]
    },
    {
     "data": {
      "image/png": "[encoded data removed]",
      "text/plain": [
       "<Figure size 432x288 with 1 Axes>"
      ]
     },
     "metadata": {
      "needs_background": "light"
     },
     "output_type": "display_data"
    }
   ],
   "source": [
    "# Visualize the cost list and check the accuracy\n",
    "\n",
    "print(costlist[-1])\n",
    "print(costlist)\n",
    "plt.plot(costlist)\n",
    "plt.show()"
   ]
  },
  {
   "cell_type": "code",
   "execution_count": 44,
   "id": "0c1419c1",
   "metadata": {},
   "outputs": [
    {
     "name": "stderr",
     "output_type": "stream",
     "text": [
      "100%|████████████████████████████████████████████████████████████████████████████| 1000/1000 [00:00<00:00, 2570.16it/s]"
     ]
    },
    {
     "name": "stdout",
     "output_type": "stream",
     "text": [
      "Validation Accuracy: 97.80%\n"
     ]
    },
    {
     "name": "stderr",
     "output_type": "stream",
     "text": [
      "\n"
     ]
    }
   ],
   "source": [
    "# Validate using validation dataset\n",
    "# random = np.random.choice(len(x_val))\n",
    "val_count = 0\n",
    "for idx in tqdm(range(len(x_val))):\n",
    "    InputData1 = x_val[idx].reshape(1, 784)\n",
    "    TargetData1 = y_val[idx].reshape(1, 10)\n",
    "\n",
    "    z1 = np.dot(InputData1, w1) + b1\n",
    "    a1 = ReLU(z1)\n",
    "\n",
    "    z2 = np.dot(a1, w2) + b2\n",
    "    a2 = ReLU(z2)\n",
    "\n",
    "    z3 = np.dot(a2, w3) + b3\n",
    "    a3 = ReLU(z3)\n",
    "\n",
    "    z4 = np.dot(a3, w4) + b4\n",
    "    a4 = ReLU(z4)\n",
    "\n",
    "    z5 = np.dot(a4, w5) + b5\n",
    "    a5 = stable_softmax(z5)\n",
    "    \n",
    "    if abs(np.argmax(a5)-TargetData1.argmax()) == 0:\n",
    "        val_count += 1\n",
    "print(\"Validation Accuracy: {:.2%}\".format(val_count/len(x_val)))\n",
    "# print(\"The PREDICTED hand written number is\", np.argmax(a5))\n",
    "# print(\"The TARGET hand written number is\", TargetData1.argmax())\n",
    "# plt.imshow(InputData1.reshape(28, 28))\n",
    "# plt.show()"
   ]
  }
 ],
 "metadata": {
  "kernelspec": {
   "display_name": "Python 3 (ipykernel)",
   "language": "python",
   "name": "python3"
  },
  "language_info": {
   "codemirror_mode": {
    "name": "ipython",
    "version": 3
   },
   "file_extension": ".py",
   "mimetype": "text/x-python",
   "name": "python",
   "nbconvert_exporter": "python",
   "pygments_lexer": "ipython3",
   "version": "3.8.10"
  }
 },
 "nbformat": 4,
 "nbformat_minor": 5
}
